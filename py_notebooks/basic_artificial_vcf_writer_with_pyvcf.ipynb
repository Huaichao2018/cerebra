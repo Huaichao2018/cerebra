{
 "cells": [
  {
   "cell_type": "code",
   "execution_count": null,
   "metadata": {},
   "outputs": [],
   "source": [
    "\"\"\" write artifical vcfs with pyvcf \"\"\""
   ]
  },
  {
   "cell_type": "code",
   "execution_count": 92,
   "metadata": {},
   "outputs": [],
   "source": [
    "import vcf\n",
    "import pandas as pd\n",
    "import os"
   ]
  },
  {
   "cell_type": "code",
   "execution_count": 106,
   "metadata": {},
   "outputs": [],
   "source": [
    "def get_random_intervals():\n",
    "    \"\"\" get set of 1000 random intronic / intergenic intervals, with bedtools \"\"\"\n",
    "    \n",
    "    bed_rand = 'bedtools_random_out.csv'\n",
    "    ! bedtools random -l 1 -n 1000 -g human.hg38.genome > $bed_rand\n",
    "\n",
    "    bed_inter = 'bedtools_intersect_out.csv'\n",
    "    ! bedtools intersect -a $bed_rand -b /Users/lincoln.harris/code/potLuck/hg38-plus.gtf > $bed_inter\n",
    "\n",
    "    bed_unique = 'bed_unique_loci.csv'\n",
    "    ! grep -F -xvf $bed_inter $bed_rand > $bed_unique\n",
    "    \n",
    "    unique = pd.read_csv('bed_unique_loci.csv', sep='\\t', names=['chrom', 'start_pos', 'end_pos', \n",
    "                                                        'num', 'score', 'strand'])\n",
    "    pos_strings = []\n",
    "    \n",
    "    for idx, row in unique.iterrows():\n",
    "        chrom_ = row.chrom\n",
    "        if '_' not in chrom_:\n",
    "            pos = row.start_pos\n",
    "            tup = [chrom_, pos]\n",
    "            pos_strings.append(tup)\n",
    "        \n",
    "    os.remove('bedtools_random_out.csv')\n",
    "    os.remove('bedtools_intersect_out.csv')\n",
    "    os.remove('bed_unique_loci.csv')\n",
    "    \n",
    "    return(pos_strings)"
   ]
  },
  {
   "cell_type": "code",
   "execution_count": 107,
   "metadata": {},
   "outputs": [],
   "source": [
    "def write_garbage_vcf_records():\n",
    "    \"\"\" write a bunch of lines that dont correspond to any gene / amino acid sequence \"\"\"\n",
    "    \n",
    "    random_positions = get_random_intervals()\n",
    "    records_list = []\n",
    "    \n",
    "    currRec = sample_record\n",
    "    for pos in random_positions:\n",
    "        \n",
    "        currRec.CHROM = pos[0]\n",
    "        currRec.POS = pos[1]\n",
    "        currRec.ID = None\n",
    "        currRec.REF = 'A'\n",
    "        currRec.ALT = ['C']\n",
    "        currRec.QUAL = 10.2\n",
    "        currRec.FILTER = None\n",
    "        currRec.INFO = {'AC': [2], 'AF': [1], 'AN': 2, 'DB': True, 'DP': 94, \n",
    "                  'ExcessHet': 3.0103, 'FS': 0.0, 'MLEAC': [2], 'MLEAF': [1.0], \n",
    "                  'MQ': 3.0, 'QD': 28.37, 'SOR': 2.303}\n",
    "    \n",
    "        vcf_writer.write_record(currRec)"
   ]
  },
  {
   "cell_type": "code",
   "execution_count": 149,
   "metadata": {},
   "outputs": [],
   "source": [
    "def write_artifical_vcf_record(chrom_, pos_, ref_, alt_, v_count_, wt_count_):\n",
    "    \"\"\" writing the {expected to find} record here \"\"\"\n",
    "    currRec = sample_record\n",
    "\n",
    "    currRec.CHROM = chrom_\n",
    "    currRec.POS = pos_\n",
    "    currRec.ID = None\n",
    "    currRec.REF = ref_\n",
    "    currRec.ALT = [alt_]\n",
    "    currRec.QUAL = 10.2\n",
    "    currRec.FILTER = None\n",
    "    currRec.INFO = {'AC': [wt_count_], 'AF': [1], 'AN': 2, 'DB': True, 'DP': 94, \n",
    "                   'ExcessHet': 3.0103, 'FS': 0.0, 'MLEAC': [2], 'MLEAF': [1.0],\n",
    "                   'MQ': 3.0, 'QD': 28.37, 'SOR': 2.303}\n",
    "    \n",
    "    vcf_writer.write_record(currRec)"
   ]
  },
  {
   "cell_type": "code",
   "execution_count": 150,
   "metadata": {},
   "outputs": [],
   "source": [
    "def write_vcf(file_name, chrom, pos, ref, alt, v_count, wt_count):\n",
    "    \"\"\" driver func for writing artifical vcf test set \"\"\"\n",
    "    global sample_record, vcf_writer\n",
    "    \n",
    "    vcf_reader = vcf.Reader(filename='A10_1001000407.vcf')\n",
    "    sample_record = next(vcf_reader)\n",
    "\n",
    "    vcf_writer = vcf.Writer(open(file_name, 'w'), vcf_reader)\n",
    "    \n",
    "    write_garbage_vcf_records()     # sandwiching the relevant one in among garbage\n",
    "    write_artifical_vcf_record(chrom, pos, ref, alt, v_count, wt_count)\n",
    "    write_garbage_vcf_records()"
   ]
  },
  {
   "cell_type": "code",
   "execution_count": 151,
   "metadata": {},
   "outputs": [
    {
     "name": "stdout",
     "output_type": "stream",
     "text": [
      "***** WARNING: File /Users/lincoln.harris/code/potLuck/hg38-plus.gtf has inconsistent naming convention for record:\n",
      "ERCC-00002\tERCC\texon\t1\t1061\t0.000000\t+\t.\tgene_id \"ERCC-00002\"; transcript_id \"DQ459430\";\n",
      "\n",
      "***** WARNING: File /Users/lincoln.harris/code/potLuck/hg38-plus.gtf has inconsistent naming convention for record:\n",
      "ERCC-00002\tERCC\texon\t1\t1061\t0.000000\t+\t.\tgene_id \"ERCC-00002\"; transcript_id \"DQ459430\";\n",
      "\n",
      "***** WARNING: File /Users/lincoln.harris/code/potLuck/hg38-plus.gtf has inconsistent naming convention for record:\n",
      "ERCC-00002\tERCC\texon\t1\t1061\t0.000000\t+\t.\tgene_id \"ERCC-00002\"; transcript_id \"DQ459430\";\n",
      "\n",
      "***** WARNING: File /Users/lincoln.harris/code/potLuck/hg38-plus.gtf has inconsistent naming convention for record:\n",
      "ERCC-00002\tERCC\texon\t1\t1061\t0.000000\t+\t.\tgene_id \"ERCC-00002\"; transcript_id \"DQ459430\";\n",
      "\n"
     ]
    }
   ],
   "source": [
    "# write test set\n",
    "write_vcf('test0_kras_G13C.vcf', 'chr12', 25245348, 'C', 'A', 0, 10)\n",
    "# write_vcf('test1_kras_G13C.vcf', 'chr12', 25245348, 'C', 'A', 0, 10)\n",
    "# write_vcf('test2_kras_G13C.vcf', 'chr12', 25245348, 'C', 'A', 5, 10)\n",
    "\n",
    "# write_vcf('test3_egfr_L858R.vcf', 'chr7', 55191822, 'T', 'G', 2, 2)\n",
    "# write_vcf('test4_egfr_L858R.vcf', 'chr7', 55191822, 'T', 'G', 0, 10)\n",
    "# write_vcf('test5_egfr_L858R.vcf', 'chr7', 55191822, 'T', 'G', 5, 10)\n",
    "\n",
    "# write_vcf('test6_braf_V600E.vcf', 'chr7', 140753336, 'A', 'T', 2, 2)\n",
    "# write_vcf('test7_braf_V600E.vcf', 'chr7', 140753336, 'A', 'T', 0, 10)\n",
    "# write_vcf('test8_braf_V600E.vcf', 'chr7', 140753336, 'A', 'T', 5, 10)\n",
    "\n",
    "# write_vcf('test9_kras_G12C.vcf', 'chr12', 25245351, 'C', 'A', 2, 2)\n",
    "# write_vcf('test10_kras_G12C.vcf', 'chr12', 25245351, 'C', 'A', 0, 10)\n",
    "# write_vcf('test11_kras_G12C.vcf', 'chr12', 25245351, 'C', 'A', 5, 10)\n",
    "\n",
    "# write_vcf('test12_braf_W450L.vcf', 'chr7', 140781659, 'C', 'A', 2, 2)\n",
    "# write_vcf('test13_braf_W450L.vcf', 'chr7', 140781659, 'C', 'A', 0, 10)\n",
    "# write_vcf('test14_braf_W450L.vcf', 'chr7', 140781659, 'C', 'A', 5, 10)\n",
    "\n",
    "# write_vcf('test15_braf_Q257H.vcf', 'chr7', 140801501, 'C', 'A', 2, 2)\n",
    "# write_vcf('test16_braf_Q257H.vcf', 'chr7', 140801501, 'C', 'A', 0, 10)\n",
    "# write_vcf('test17_braf_Q257H.vcf', 'chr7', 140801501, 'C', 'A', 5, 10)\n",
    "\n",
    "# write_vcf('test18_tp53_S241F.vcf', 'chr17', 7674241, 'G', 'A', 2, 2)\n",
    "# write_vcf('test19_tp53_S241F.vcf', 'chr17', 7674241, 'G', 'A', 0, 10)\n",
    "# write_vcf('test20_tp53_S241F.vcf', 'chr17', 7674241, 'G', 'A', 5, 10)\n",
    "\n",
    "# write_vcf('test21_tp53_P72R.vcf', 'chr17', 7676154, 'G', 'C', 2, 2)\n",
    "# write_vcf('test22_tp53_P72R.vcf', 'chr17', 7676154, 'G', 'C', 0, 10)\n",
    "# write_vcf('test23_tp53_P72R.vcf', 'chr17', 7676154, 'G', 'C', 5, 10)\n",
    "\n",
    "# write_vcf('test24_garbage.vcf', 'chr12', 25284777, 'G', 'C', 2, 2) # none of these should return anything\n",
    "# write_vcf('test25_garbage.vcf', 'chr7', 54880599, 'G', 'C', 0, 10)\n",
    "# write_vcf('test26_garbage.vcf', 'chr2', 41732258, 'G', 'C', 5, 10)"
   ]
  },
  {
   "cell_type": "code",
   "execution_count": 140,
   "metadata": {},
   "outputs": [
    {
     "name": "stdout",
     "output_type": "stream",
     "text": [
      "Record(CHROM=chr12, POS=25245348, REF=C, ALT=[A])\n"
     ]
    }
   ],
   "source": [
    "vcf_reader = vcf.Reader(filename='test0_kras_G13C.vcf')\n",
    "\n",
    "for record in vcf_reader:\n",
    "    if record.CHROM == 'chr12' and record.POS == 25245348:\n",
    "        found_record = record\n",
    "        print(record)"
   ]
  },
  {
   "cell_type": "code",
   "execution_count": 141,
   "metadata": {},
   "outputs": [
    {
     "data": {
      "text/plain": [
       "{'AC': [2, 2],\n",
       " 'AF': [1.0],\n",
       " 'AN': 2,\n",
       " 'DB': True,\n",
       " 'DP': 94,\n",
       " 'ExcessHet': 3.0103,\n",
       " 'FS': 0.0,\n",
       " 'MLEAC': [2],\n",
       " 'MLEAF': [1.0],\n",
       " 'MQ': 3.0,\n",
       " 'QD': 28.37,\n",
       " 'SOR': 2.303}"
      ]
     },
     "execution_count": 141,
     "metadata": {},
     "output_type": "execute_result"
    }
   ],
   "source": [
    "found_record.INFO"
   ]
  },
  {
   "cell_type": "code",
   "execution_count": null,
   "metadata": {},
   "outputs": [],
   "source": []
  }
 ],
 "metadata": {
  "kernelspec": {
   "display_name": "Python 3",
   "language": "python",
   "name": "python3"
  },
  "language_info": {
   "codemirror_mode": {
    "name": "ipython",
    "version": 3
   },
   "file_extension": ".py",
   "mimetype": "text/x-python",
   "name": "python",
   "nbconvert_exporter": "python",
   "pygments_lexer": "ipython3",
   "version": "3.7.4"
  }
 },
 "nbformat": 4,
 "nbformat_minor": 2
}
