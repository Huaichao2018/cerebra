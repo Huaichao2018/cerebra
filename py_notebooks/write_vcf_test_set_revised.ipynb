{
 "cells": [
  {
   "cell_type": "code",
   "execution_count": 1,
   "metadata": {},
   "outputs": [
    {
     "data": {
      "text/plain": [
       "' can we write a nicer vcf test set? '"
      ]
     },
     "execution_count": 1,
     "metadata": {},
     "output_type": "execute_result"
    }
   ],
   "source": [
    "\"\"\" can we write a nicer vcf test set? \"\"\""
   ]
  },
  {
   "cell_type": "code",
   "execution_count": 36,
   "metadata": {},
   "outputs": [],
   "source": [
    "import os\n",
    "import pandas as pd\n",
    "import click\n",
    "import vcfpy\n",
    "from pathlib import Path\n",
    "from tqdm import tqdm\n",
    "from pathos.multiprocessing import _ProcessPool as Pool, ThreadPool\n",
    "from multiprocessing import current_process, Process"
   ]
  },
  {
   "cell_type": "code",
   "execution_count": 37,
   "metadata": {},
   "outputs": [],
   "source": [
    "def write_sample_vcf(in_stream, out_stream, pos):\n",
    "    \"\"\" most of this cribbed from Rohan -> germline-filter module \"\"\"\n",
    "    \n",
    "    cell_vcf = vcfpy.Reader.from_stream(in_stream)\n",
    "    out_vcf = vcfpy.Writer.from_stream(out_stream, header=cell_vcf.header)\n",
    "    \n",
    "    for record in cell_vcf:\n",
    "        # If a record's ID field is `.`, that means that the calling software\n",
    "        # did not find an ID for it in the associated database, typically dbSNP.\n",
    "        # This is represented as an empty array (`[]`) in VCFPy.\n",
    "        #if record.ID:\n",
    "        #    # This record is in dbSNP; skip it.\n",
    "        #    continue\n",
    "\n",
    "        genome_pos = GenomePosition.from_vcf_record(record)\n",
    "        if str(genome_pos) == pos:\n",
    "            print(genome_pos)\n",
    "        \n",
    "            # write record\n",
    "            out_vcf.write_record(record)"
   ]
  },
  {
   "cell_type": "code",
   "execution_count": 38,
   "metadata": {},
   "outputs": [
    {
     "name": "stdout",
     "output_type": "stream",
     "text": [
      "7:55191822-55191822\n"
     ]
    }
   ],
   "source": [
    "# this is how you call it \n",
    "cell_vcf_path = 'vcf/P13_1001000407.vcf'\n",
    "out_vcf_path = 'test?_egfr_l858r.vcf'\n",
    "pos_str = '7:55191822-55191822'\n",
    "\n",
    "with open(cell_vcf_path, mode='r') as in_file:\n",
    "            with open(out_vcf_path, mode='w') as out_file:\n",
    "                write_sample_vcf(in_file, out_file, pos_str)"
   ]
  },
  {
   "cell_type": "code",
   "execution_count": null,
   "metadata": {},
   "outputs": [],
   "source": []
  }
 ],
 "metadata": {
  "kernelspec": {
   "display_name": "Python 3",
   "language": "python",
   "name": "python3"
  },
  "language_info": {
   "codemirror_mode": {
    "name": "ipython",
    "version": 3
   },
   "file_extension": ".py",
   "mimetype": "text/x-python",
   "name": "python",
   "nbconvert_exporter": "python",
   "pygments_lexer": "ipython3",
   "version": "3.7.4"
  }
 },
 "nbformat": 4,
 "nbformat_minor": 2
}
