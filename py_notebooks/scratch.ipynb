{
 "cells": [
  {
   "cell_type": "code",
   "execution_count": 16,
   "metadata": {
    "collapsed": true
   },
   "outputs": [],
   "source": [
    "import pandas as pd"
   ]
  },
  {
   "cell_type": "code",
   "execution_count": 17,
   "metadata": {},
   "outputs": [
    {
     "data": {
      "text/html": [
       "<div>\n",
       "<style scoped>\n",
       "    .dataframe tbody tr th:only-of-type {\n",
       "        vertical-align: middle;\n",
       "    }\n",
       "\n",
       "    .dataframe tbody tr th {\n",
       "        vertical-align: top;\n",
       "    }\n",
       "\n",
       "    .dataframe thead th {\n",
       "        text-align: right;\n",
       "    }\n",
       "</style>\n",
       "<table border=\"1\" class=\"dataframe\">\n",
       "  <thead>\n",
       "    <tr style=\"text-align: right;\">\n",
       "      <th></th>\n",
       "      <th>chrom</th>\n",
       "      <th>start_pos</th>\n",
       "      <th>end_pos</th>\n",
       "      <th>outfile</th>\n",
       "    </tr>\n",
       "  </thead>\n",
       "  <tbody>\n",
       "    <tr>\n",
       "      <th>0</th>\n",
       "      <td>7</td>\n",
       "      <td>55191820</td>\n",
       "      <td>55191822</td>\n",
       "      <td>egfr_L858R_coverageByCell.csv</td>\n",
       "    </tr>\n",
       "    <tr>\n",
       "      <th>1</th>\n",
       "      <td>7</td>\n",
       "      <td>55181377</td>\n",
       "      <td>55181379</td>\n",
       "      <td>egfr_T790M_coverageByCell.csv</td>\n",
       "    </tr>\n",
       "    <tr>\n",
       "      <th>2</th>\n",
       "      <td>7</td>\n",
       "      <td>55191830</td>\n",
       "      <td>55191832</td>\n",
       "      <td>egfr_L861Q_coverageByCell.csv</td>\n",
       "    </tr>\n",
       "    <tr>\n",
       "      <th>3</th>\n",
       "      <td>7</td>\n",
       "      <td>55174014</td>\n",
       "      <td>55174016</td>\n",
       "      <td>egfr_G719X_coverageByCell.csv</td>\n",
       "    </tr>\n",
       "    <tr>\n",
       "      <th>4</th>\n",
       "      <td>7</td>\n",
       "      <td>55181311</td>\n",
       "      <td>55181313</td>\n",
       "      <td>egfr_S768I_coverageByCell.csv</td>\n",
       "    </tr>\n",
       "    <tr>\n",
       "      <th>5</th>\n",
       "      <td>7</td>\n",
       "      <td>140753335</td>\n",
       "      <td>140753337</td>\n",
       "      <td>braf_V600E_coverageByCell.csv</td>\n",
       "    </tr>\n",
       "    <tr>\n",
       "      <th>6</th>\n",
       "      <td>12</td>\n",
       "      <td>25245350</td>\n",
       "      <td>25245352</td>\n",
       "      <td>kras_G12C_coverageByCell.csv</td>\n",
       "    </tr>\n",
       "    <tr>\n",
       "      <th>7</th>\n",
       "      <td>12</td>\n",
       "      <td>25245346</td>\n",
       "      <td>25245348</td>\n",
       "      <td>kras_G13X_coverageByCell.csv</td>\n",
       "    </tr>\n",
       "    <tr>\n",
       "      <th>8</th>\n",
       "      <td>12</td>\n",
       "      <td>25227340</td>\n",
       "      <td>25227342</td>\n",
       "      <td>kras_Q61X_coverageByCell.csv</td>\n",
       "    </tr>\n",
       "    <tr>\n",
       "      <th>9</th>\n",
       "      <td>7</td>\n",
       "      <td>55181330</td>\n",
       "      <td>55181331</td>\n",
       "      <td>egfr_exon20ins_coverageByCell.csv</td>\n",
       "    </tr>\n",
       "    <tr>\n",
       "      <th>10</th>\n",
       "      <td>7</td>\n",
       "      <td>55174768</td>\n",
       "      <td>55174791</td>\n",
       "      <td>egfr_exon19del_coverageByCell.csv</td>\n",
       "    </tr>\n",
       "  </tbody>\n",
       "</table>\n",
       "</div>"
      ],
      "text/plain": [
       "    chrom  start_pos    end_pos                            outfile\n",
       "0       7   55191820   55191822     egfr_L858R_coverageByCell.csv \n",
       "1       7   55181377   55181379     egfr_T790M_coverageByCell.csv \n",
       "2       7   55191830   55191832     egfr_L861Q_coverageByCell.csv \n",
       "3       7   55174014   55174016     egfr_G719X_coverageByCell.csv \n",
       "4       7   55181311   55181313     egfr_S768I_coverageByCell.csv \n",
       "5       7  140753335  140753337      braf_V600E_coverageByCell.csv\n",
       "6      12   25245350   25245352       kras_G12C_coverageByCell.csv\n",
       "7      12   25245346   25245348       kras_G13X_coverageByCell.csv\n",
       "8      12   25227340   25227342       kras_Q61X_coverageByCell.csv\n",
       "9       7   55181330   55181331  egfr_exon20ins_coverageByCell.csv\n",
       "10      7   55174768   55174791  egfr_exon19del_coverageByCell.csv"
      ]
     },
     "execution_count": 17,
     "metadata": {},
     "output_type": "execute_result"
    }
   ],
   "source": [
    "cov_df = pd.read_csv('../cerebra/coverageBatch.csv')\n",
    "cov_df"
   ]
  },
  {
   "cell_type": "code",
   "execution_count": 18,
   "metadata": {
    "scrolled": true
   },
   "outputs": [],
   "source": [
    "for i in range(0, len(cov_df.index)):\n",
    "    currRow = cov_df.iloc[i]\n",
    "    chrom_ = currRow['chrom']\n",
    "    start_ = currRow['start_pos']\n",
    "    end_ = currRow['end_pos']\n",
    "    outfile_ = currRow['outfile']"
   ]
  },
  {
   "cell_type": "code",
   "execution_count": 15,
   "metadata": {},
   "outputs": [
    {
     "data": {
      "text/plain": [
       "chrom                                     7\n",
       "start_pos                          55191820\n",
       " end_pos                           55191822\n",
       " outfile     egfr_L858R_coverageByCell.csv \n",
       "Name: 0, dtype: object"
      ]
     },
     "execution_count": 15,
     "metadata": {},
     "output_type": "execute_result"
    }
   ],
   "source": [
    "currRow"
   ]
  },
  {
   "cell_type": "code",
   "execution_count": null,
   "metadata": {
    "collapsed": true
   },
   "outputs": [],
   "source": []
  }
 ],
 "metadata": {
  "kernelspec": {
   "display_name": "Python 3",
   "language": "python",
   "name": "python3"
  },
  "language_info": {
   "codemirror_mode": {
    "name": "ipython",
    "version": 3
   },
   "file_extension": ".py",
   "mimetype": "text/x-python",
   "name": "python",
   "nbconvert_exporter": "python",
   "pygments_lexer": "ipython3",
   "version": "3.6.4"
  }
 },
 "nbformat": 4,
 "nbformat_minor": 2
}
